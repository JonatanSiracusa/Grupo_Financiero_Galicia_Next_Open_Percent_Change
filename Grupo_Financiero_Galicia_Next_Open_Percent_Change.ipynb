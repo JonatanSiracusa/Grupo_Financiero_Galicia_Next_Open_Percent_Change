{
  "cells": [
    {
      "cell_type": "markdown",
      "metadata": {
        "id": "GjHq7tpopTcQ"
      },
      "source": [
        "<a href=\"https://colab.research.google.com/github/JonatanSiracusa/Grupo_Financiero_Galicia_Next_Open_Percent_Change/blob/main/Grupo_Financiero_Galicia_Next_Open_Percent_Change.ipynb\" \n",
        "target=\"_parent\"><img src=\"https://colab.research.google.com/assets/colab-badge.svg\" alt=\"Open In Colab\"/></a>"
      ]
    },
    {
      "cell_type": "markdown",
      "metadata": {
        "colab_type": "toc",
        "id": "K1GZdTu_qma5"
      },
      "source": [
        ">[INTRODUCCIÓN AL ESTUDIO](#scrollTo=zqEVea5qMdNq)\n",
        "\n",
        ">[Inicio: carga de librerías, definición de Funciones y variables globales](#scrollTo=RzO8w1ysoR5P)\n",
        "\n",
        ">[Carga de datos](#scrollTo=N2ZT3qWIY_5c)\n",
        "\n",
        ">[Limpieza de datos](#scrollTo=KAjjl-EDoYZ_)\n",
        "\n",
        ">[Transformación de datos](#scrollTo=1Ht6Zro3oje8)\n",
        "\n",
        ">[Análisis y Visualizaciones](#scrollTo=-oZALeyloq56)\n",
        "\n",
        ">>[Promedios](#scrollTo=Bb5clEyFRmd3)\n",
        "\n",
        ">>[Medidas de dispersión](#scrollTo=6uEO2lnkUEZd)\n",
        "\n",
        ">>[Estimación de Intervalos de Confianza de la variable \"Variación porcentual al cierre\"](#scrollTo=PxIgyv58YwNG)\n",
        "\n",
        ">>>[1) Media y Desvío Estándar de la muestra](#scrollTo=LWMn7R74Zke-)\n",
        "\n",
        ">>>[2) Medida de posible error (error estándar de las medias muestrales)](#scrollTo=cKxmVvqMbYee)\n",
        "\n",
        ">>>[3) Intervalos de confianza: cálculo y gráficos](#scrollTo=EkdFaTHhdSlb)\n",
        "\n",
        ">[Conclusión](#scrollTo=q7ppUWSYpA7A)\n",
        "\n"
      ]
    },
    {
      "cell_type": "markdown",
      "metadata": {
        "id": "zqEVea5qMdNq"
      },
      "source": [
        "# INTRODUCCIÓN AL ESTUDIO"
      ]
    },
    {
      "cell_type": "markdown",
      "metadata": {
        "id": "_6UF_L7PMkx4"
      },
      "source": [
        "El objetivo del presente estudio es determinar con un grado de certeza relativamente alto cuál sería la variación porcentual del precio de cierre de la cotización de un día respecto de la cotización de cierre del día anterior de la acción Grupo Financiero Galicia.\n",
        "\n",
        "De esta forma, sería posible plantear escenarios futuros con mayor precisión en función del avance o retroceso porcentual que pudiese tener el precio de la acción de una rueda hacia la otra.\n",
        "\n",
        "En el estudio se toman cotizaciones diarias, desde el año 1997 a 2022, al fin de cubrir variados eventos económicos, políticos y sociales que sucedieron en la Argentina y que, lógicamente, afectaron las cotizaciones de la acción a lo largo de tiempo.\n"
      ]
    },
    {
      "cell_type": "markdown",
      "metadata": {
        "id": "RzO8w1ysoR5P"
      },
      "source": [
        "# Inicio: carga de librerías, definición de Funciones y variables globales"
      ]
    },
    {
      "cell_type": "code",
      "execution_count": 1,
      "metadata": {
        "id": "CxWDctuiiZGX"
      },
      "outputs": [],
      "source": [
        "# Importo las librerías que se van a necesitar\n",
        "import pandas as pd\n",
        "import numpy as np # Importamos Numpy para poder utilizar arrays\n",
        "from numpy import log as ln\n",
        "from scipy import stats\n",
        "from scipy.stats import norm\n",
        "import statistics as st\n",
        "\n",
        "\n",
        "# Declaro las variables globales\n",
        "DIAS_V_H = 40\n",
        "RUEDAS_POR_ANIO = 252\n",
        "FECHA_INICIO_MUESTRA = '1997-01-01'\n",
        "FECHA_FIN_MUESTRA = '2099-01-01'\n",
        "NIVEL_SIGNIFICACION = 0.05\n",
        "FECHA_VENC_EJERCICIOS = ['2022-04-15', '2022-06-17']\n",
        "\n",
        "\n",
        "# Escribo las funciones que serán usadas durante el estudio:\n",
        "\n",
        "def tomar_muestra_df(df, fecha_inicio, fecha_fin='2099-12-31'):\n",
        "  \"\"\" Esta funcion toma las filas del DF que se encuentran entre fecha_inicio y\n",
        "      fecha_fin\n",
        "  \"\"\"\n",
        "\n",
        "  mask = ((df['fecha_date'] >= fecha_inicio) & (df['fecha_date'] <= fecha_fin))\n",
        "  return df.loc[mask]\n",
        "\n",
        "\n",
        "def volatilidad_historica(dias_vh, fecha_ultimo_cierre, dias_calendario = RUEDAS_POR_ANIO):\n",
        "  \"\"\" Esta función calcula la Volatilidad Histórica de una activo financiero y retorna\n",
        "      el valor expresado en porcentaje (ya que los valores de 'var_cierre_porcentual' tmb).\n",
        "  \"\"\"\n",
        "\n",
        "  indice_fecha_fin  = int(df[df['fecha_date'] == fecha_ultimo_cierre].index[0])\n",
        "  indice_fecha_inicio = indice_fecha_fin - dias_vh\n",
        "\n",
        "  if (indice_fecha_fin - indice_fecha_inicio) < dias_vh:\n",
        "    return \"ERROR\"\n",
        "  else:\n",
        "    fecha_inicio = df['fecha_date'][indice_fecha_inicio]\n",
        "\n",
        "    mask = ((df['fecha_date'] > fecha_inicio) & (df['fecha_date'] <= fecha_ultimo_cierre))\n",
        "    df_vh = df.loc[mask]\n",
        "\n",
        "    values = np.array(df_vh['var_cierre_porcentual'])\n",
        "    \n",
        "    v_h = (st.stdev(values)) * (dias_calendario ** (1/2))\n",
        "    return v_h\n",
        "\n"
      ]
    },
    {
      "cell_type": "markdown",
      "metadata": {
        "id": "N2ZT3qWIY_5c"
      },
      "source": [
        "# Carga de datos"
      ]
    },
    {
      "cell_type": "code",
      "execution_count": 2,
      "metadata": {
        "id": "mva0CECqY_Rq"
      },
      "outputs": [],
      "source": [
        "path = 'https://raw.githubusercontent.com/JonatanSiracusa/Grupo_Financiero_Galicia_Next_Open_Percent_Change/main/ggal.csv'\n",
        "df_especie = pd.read_csv(path)"
      ]
    },
    {
      "cell_type": "markdown",
      "metadata": {
        "id": "KAjjl-EDoYZ_"
      },
      "source": [
        "# Limpieza de datos"
      ]
    },
    {
      "cell_type": "markdown",
      "metadata": {
        "id": "1mh-s9ApbqhU"
      },
      "source": [
        "Del DataFrame con los datos de la población elimino columnas que no serán usadas en este estudio."
      ]
    },
    {
      "cell_type": "code",
      "execution_count": 3,
      "metadata": {
        "colab": {
          "base_uri": "https://localhost:8080/",
          "height": 424
        },
        "id": "3__CVMilodU_",
        "outputId": "4f6af267-cc07-411e-f76c-ea9c33128754"
      },
      "outputs": [
        {
          "data": {
            "text/html": [
              "<div>\n",
              "<style scoped>\n",
              "    .dataframe tbody tr th:only-of-type {\n",
              "        vertical-align: middle;\n",
              "    }\n",
              "\n",
              "    .dataframe tbody tr th {\n",
              "        vertical-align: top;\n",
              "    }\n",
              "\n",
              "    .dataframe thead th {\n",
              "        text-align: right;\n",
              "    }\n",
              "</style>\n",
              "<table border=\"1\" class=\"dataframe\">\n",
              "  <thead>\n",
              "    <tr style=\"text-align: right;\">\n",
              "      <th></th>\n",
              "      <th>especie</th>\n",
              "      <th>fecha</th>\n",
              "      <th>apertura</th>\n",
              "      <th>maximo</th>\n",
              "      <th>minimo</th>\n",
              "      <th>cierre</th>\n",
              "    </tr>\n",
              "  </thead>\n",
              "  <tbody>\n",
              "    <tr>\n",
              "      <th>0</th>\n",
              "      <td>GGAL</td>\n",
              "      <td>1991-01-02</td>\n",
              "      <td>0.02338</td>\n",
              "      <td>0.02338</td>\n",
              "      <td>0.02313</td>\n",
              "      <td>0.02338</td>\n",
              "    </tr>\n",
              "    <tr>\n",
              "      <th>1</th>\n",
              "      <td>GGAL</td>\n",
              "      <td>1991-01-03</td>\n",
              "      <td>0.02289</td>\n",
              "      <td>0.02289</td>\n",
              "      <td>0.02251</td>\n",
              "      <td>0.02289</td>\n",
              "    </tr>\n",
              "    <tr>\n",
              "      <th>2</th>\n",
              "      <td>GGAL</td>\n",
              "      <td>1991-01-04</td>\n",
              "      <td>0.02251</td>\n",
              "      <td>0.02289</td>\n",
              "      <td>0.02251</td>\n",
              "      <td>0.02251</td>\n",
              "    </tr>\n",
              "    <tr>\n",
              "      <th>3</th>\n",
              "      <td>GGAL</td>\n",
              "      <td>1991-01-07</td>\n",
              "      <td>0.02202</td>\n",
              "      <td>0.02202</td>\n",
              "      <td>0.02202</td>\n",
              "      <td>0.02202</td>\n",
              "    </tr>\n",
              "    <tr>\n",
              "      <th>4</th>\n",
              "      <td>GGAL</td>\n",
              "      <td>1991-01-08</td>\n",
              "      <td>0.02128</td>\n",
              "      <td>0.02177</td>\n",
              "      <td>0.02128</td>\n",
              "      <td>0.02128</td>\n",
              "    </tr>\n",
              "    <tr>\n",
              "      <th>...</th>\n",
              "      <td>...</td>\n",
              "      <td>...</td>\n",
              "      <td>...</td>\n",
              "      <td>...</td>\n",
              "      <td>...</td>\n",
              "      <td>...</td>\n",
              "    </tr>\n",
              "    <tr>\n",
              "      <th>8241</th>\n",
              "      <td>GGAL</td>\n",
              "      <td>2024-07-04</td>\n",
              "      <td>4006.00000</td>\n",
              "      <td>4050.00000</td>\n",
              "      <td>3990.10000</td>\n",
              "      <td>3996.35010</td>\n",
              "    </tr>\n",
              "    <tr>\n",
              "      <th>8242</th>\n",
              "      <td>GGAL</td>\n",
              "      <td>2024-07-05</td>\n",
              "      <td>3957.00000</td>\n",
              "      <td>4037.00000</td>\n",
              "      <td>3925.00000</td>\n",
              "      <td>3971.00000</td>\n",
              "    </tr>\n",
              "    <tr>\n",
              "      <th>8243</th>\n",
              "      <td>GGAL</td>\n",
              "      <td>2024-07-08</td>\n",
              "      <td>3982.00000</td>\n",
              "      <td>4010.00000</td>\n",
              "      <td>3925.00000</td>\n",
              "      <td>3979.00000</td>\n",
              "    </tr>\n",
              "    <tr>\n",
              "      <th>8244</th>\n",
              "      <td>GGAL</td>\n",
              "      <td>2024-07-10</td>\n",
              "      <td>4040.00000</td>\n",
              "      <td>4110.00000</td>\n",
              "      <td>4015.00000</td>\n",
              "      <td>4100.00000</td>\n",
              "    </tr>\n",
              "    <tr>\n",
              "      <th>8245</th>\n",
              "      <td>GGAL</td>\n",
              "      <td>2024-07-11</td>\n",
              "      <td>4100.00000</td>\n",
              "      <td>4150.00000</td>\n",
              "      <td>4070.00000</td>\n",
              "      <td>4110.00000</td>\n",
              "    </tr>\n",
              "  </tbody>\n",
              "</table>\n",
              "<p>8246 rows × 6 columns</p>\n",
              "</div>"
            ],
            "text/plain": [
              "     especie       fecha    apertura      maximo      minimo      cierre\n",
              "0       GGAL  1991-01-02     0.02338     0.02338     0.02313     0.02338\n",
              "1       GGAL  1991-01-03     0.02289     0.02289     0.02251     0.02289\n",
              "2       GGAL  1991-01-04     0.02251     0.02289     0.02251     0.02251\n",
              "3       GGAL  1991-01-07     0.02202     0.02202     0.02202     0.02202\n",
              "4       GGAL  1991-01-08     0.02128     0.02177     0.02128     0.02128\n",
              "...      ...         ...         ...         ...         ...         ...\n",
              "8241    GGAL  2024-07-04  4006.00000  4050.00000  3990.10000  3996.35010\n",
              "8242    GGAL  2024-07-05  3957.00000  4037.00000  3925.00000  3971.00000\n",
              "8243    GGAL  2024-07-08  3982.00000  4010.00000  3925.00000  3979.00000\n",
              "8244    GGAL  2024-07-10  4040.00000  4110.00000  4015.00000  4100.00000\n",
              "8245    GGAL  2024-07-11  4100.00000  4150.00000  4070.00000  4110.00000\n",
              "\n",
              "[8246 rows x 6 columns]"
            ]
          },
          "execution_count": 3,
          "metadata": {},
          "output_type": "execute_result"
        }
      ],
      "source": [
        "df_especie.drop_duplicates\n",
        "del df_especie['volumen']\n",
        "del df_especie['timestamp']\n",
        "\n",
        "df_especie"
      ]
    },
    {
      "cell_type": "markdown",
      "metadata": {
        "id": "1Ht6Zro3oje8"
      },
      "source": [
        "# Transformación de datos"
      ]
    },
    {
      "cell_type": "markdown",
      "metadata": {
        "id": "gA0l2O4YcKnw"
      },
      "source": [
        "Comenzamos con la transformación de los datos y posterior selección de la muestra a estudiar."
      ]
    },
    {
      "cell_type": "code",
      "execution_count": 4,
      "metadata": {
        "colab": {
          "base_uri": "https://localhost:8080/",
          "height": 424
        },
        "id": "vKGPgF3Wb7Jz",
        "outputId": "88f89044-a9ba-4bf0-cb27-5247a80b5dd4"
      },
      "outputs": [
        {
          "data": {
            "text/html": [
              "<div>\n",
              "<style scoped>\n",
              "    .dataframe tbody tr th:only-of-type {\n",
              "        vertical-align: middle;\n",
              "    }\n",
              "\n",
              "    .dataframe tbody tr th {\n",
              "        vertical-align: top;\n",
              "    }\n",
              "\n",
              "    .dataframe thead th {\n",
              "        text-align: right;\n",
              "    }\n",
              "</style>\n",
              "<table border=\"1\" class=\"dataframe\">\n",
              "  <thead>\n",
              "    <tr style=\"text-align: right;\">\n",
              "      <th></th>\n",
              "      <th>especie</th>\n",
              "      <th>fecha_date</th>\n",
              "      <th>apertura</th>\n",
              "      <th>maximo</th>\n",
              "      <th>minimo</th>\n",
              "      <th>cierre</th>\n",
              "    </tr>\n",
              "  </thead>\n",
              "  <tbody>\n",
              "    <tr>\n",
              "      <th>0</th>\n",
              "      <td>GGAL</td>\n",
              "      <td>1991-01-02</td>\n",
              "      <td>0.02338</td>\n",
              "      <td>0.02338</td>\n",
              "      <td>0.02313</td>\n",
              "      <td>0.02338</td>\n",
              "    </tr>\n",
              "    <tr>\n",
              "      <th>1</th>\n",
              "      <td>GGAL</td>\n",
              "      <td>1991-01-03</td>\n",
              "      <td>0.02289</td>\n",
              "      <td>0.02289</td>\n",
              "      <td>0.02251</td>\n",
              "      <td>0.02289</td>\n",
              "    </tr>\n",
              "    <tr>\n",
              "      <th>2</th>\n",
              "      <td>GGAL</td>\n",
              "      <td>1991-01-04</td>\n",
              "      <td>0.02251</td>\n",
              "      <td>0.02289</td>\n",
              "      <td>0.02251</td>\n",
              "      <td>0.02251</td>\n",
              "    </tr>\n",
              "    <tr>\n",
              "      <th>3</th>\n",
              "      <td>GGAL</td>\n",
              "      <td>1991-01-07</td>\n",
              "      <td>0.02202</td>\n",
              "      <td>0.02202</td>\n",
              "      <td>0.02202</td>\n",
              "      <td>0.02202</td>\n",
              "    </tr>\n",
              "    <tr>\n",
              "      <th>4</th>\n",
              "      <td>GGAL</td>\n",
              "      <td>1991-01-08</td>\n",
              "      <td>0.02128</td>\n",
              "      <td>0.02177</td>\n",
              "      <td>0.02128</td>\n",
              "      <td>0.02128</td>\n",
              "    </tr>\n",
              "    <tr>\n",
              "      <th>...</th>\n",
              "      <td>...</td>\n",
              "      <td>...</td>\n",
              "      <td>...</td>\n",
              "      <td>...</td>\n",
              "      <td>...</td>\n",
              "      <td>...</td>\n",
              "    </tr>\n",
              "    <tr>\n",
              "      <th>8241</th>\n",
              "      <td>GGAL</td>\n",
              "      <td>2024-07-04</td>\n",
              "      <td>4006.00000</td>\n",
              "      <td>4050.00000</td>\n",
              "      <td>3990.10000</td>\n",
              "      <td>3996.35010</td>\n",
              "    </tr>\n",
              "    <tr>\n",
              "      <th>8242</th>\n",
              "      <td>GGAL</td>\n",
              "      <td>2024-07-05</td>\n",
              "      <td>3957.00000</td>\n",
              "      <td>4037.00000</td>\n",
              "      <td>3925.00000</td>\n",
              "      <td>3971.00000</td>\n",
              "    </tr>\n",
              "    <tr>\n",
              "      <th>8243</th>\n",
              "      <td>GGAL</td>\n",
              "      <td>2024-07-08</td>\n",
              "      <td>3982.00000</td>\n",
              "      <td>4010.00000</td>\n",
              "      <td>3925.00000</td>\n",
              "      <td>3979.00000</td>\n",
              "    </tr>\n",
              "    <tr>\n",
              "      <th>8244</th>\n",
              "      <td>GGAL</td>\n",
              "      <td>2024-07-10</td>\n",
              "      <td>4040.00000</td>\n",
              "      <td>4110.00000</td>\n",
              "      <td>4015.00000</td>\n",
              "      <td>4100.00000</td>\n",
              "    </tr>\n",
              "    <tr>\n",
              "      <th>8245</th>\n",
              "      <td>GGAL</td>\n",
              "      <td>2024-07-11</td>\n",
              "      <td>4100.00000</td>\n",
              "      <td>4150.00000</td>\n",
              "      <td>4070.00000</td>\n",
              "      <td>4110.00000</td>\n",
              "    </tr>\n",
              "  </tbody>\n",
              "</table>\n",
              "<p>8246 rows × 6 columns</p>\n",
              "</div>"
            ],
            "text/plain": [
              "     especie fecha_date    apertura      maximo      minimo      cierre\n",
              "0       GGAL 1991-01-02     0.02338     0.02338     0.02313     0.02338\n",
              "1       GGAL 1991-01-03     0.02289     0.02289     0.02251     0.02289\n",
              "2       GGAL 1991-01-04     0.02251     0.02289     0.02251     0.02251\n",
              "3       GGAL 1991-01-07     0.02202     0.02202     0.02202     0.02202\n",
              "4       GGAL 1991-01-08     0.02128     0.02177     0.02128     0.02128\n",
              "...      ...        ...         ...         ...         ...         ...\n",
              "8241    GGAL 2024-07-04  4006.00000  4050.00000  3990.10000  3996.35010\n",
              "8242    GGAL 2024-07-05  3957.00000  4037.00000  3925.00000  3971.00000\n",
              "8243    GGAL 2024-07-08  3982.00000  4010.00000  3925.00000  3979.00000\n",
              "8244    GGAL 2024-07-10  4040.00000  4110.00000  4015.00000  4100.00000\n",
              "8245    GGAL 2024-07-11  4100.00000  4150.00000  4070.00000  4110.00000\n",
              "\n",
              "[8246 rows x 6 columns]"
            ]
          },
          "execution_count": 4,
          "metadata": {},
          "output_type": "execute_result"
        }
      ],
      "source": [
        "# Convierto 'fecha' str a 'fecha_date' datetime\n",
        "df_especie['fecha'] = pd.to_datetime(df_especie['fecha'], format='%Y-%m-%d')\n",
        "df_especie.rename(columns={'fecha': 'fecha_date'}, inplace=True)\n",
        "\n",
        "df_especie"
      ]
    },
    {
      "cell_type": "markdown",
      "metadata": {
        "id": "lqGqXKw6bcGb"
      },
      "source": [
        "Usando los datos de la población total, creo columnas con nuevos cálculos que luego serán usados en distintos análisis."
      ]
    },
    {
      "cell_type": "code",
      "execution_count": 5,
      "metadata": {
        "colab": {
          "base_uri": "https://localhost:8080/",
          "height": 424
        },
        "id": "x8yKhot9bciJ",
        "outputId": "5d56f6d4-b270-42e2-b59b-b74c6e44ea96"
      },
      "outputs": [
        {
          "data": {
            "text/html": [
              "<div>\n",
              "<style scoped>\n",
              "    .dataframe tbody tr th:only-of-type {\n",
              "        vertical-align: middle;\n",
              "    }\n",
              "\n",
              "    .dataframe tbody tr th {\n",
              "        vertical-align: top;\n",
              "    }\n",
              "\n",
              "    .dataframe thead th {\n",
              "        text-align: right;\n",
              "    }\n",
              "</style>\n",
              "<table border=\"1\" class=\"dataframe\">\n",
              "  <thead>\n",
              "    <tr style=\"text-align: right;\">\n",
              "      <th></th>\n",
              "      <th>especie</th>\n",
              "      <th>fecha_date</th>\n",
              "      <th>apertura</th>\n",
              "      <th>maximo</th>\n",
              "      <th>minimo</th>\n",
              "      <th>cierre</th>\n",
              "      <th>var_cierre_nominal</th>\n",
              "      <th>var_cierre_porcentual</th>\n",
              "      <th>rango_diario_nominal</th>\n",
              "      <th>rango_diario_porcentual</th>\n",
              "    </tr>\n",
              "  </thead>\n",
              "  <tbody>\n",
              "    <tr>\n",
              "      <th>0</th>\n",
              "      <td>GGAL</td>\n",
              "      <td>1991-01-02</td>\n",
              "      <td>0.02338</td>\n",
              "      <td>0.02338</td>\n",
              "      <td>0.02313</td>\n",
              "      <td>0.02338</td>\n",
              "      <td>0.00000</td>\n",
              "      <td>0.000000</td>\n",
              "      <td>0.00025</td>\n",
              "      <td>0.000000</td>\n",
              "    </tr>\n",
              "    <tr>\n",
              "      <th>1</th>\n",
              "      <td>GGAL</td>\n",
              "      <td>1991-01-03</td>\n",
              "      <td>0.02289</td>\n",
              "      <td>0.02289</td>\n",
              "      <td>0.02251</td>\n",
              "      <td>0.02289</td>\n",
              "      <td>-0.00049</td>\n",
              "      <td>-2.095808</td>\n",
              "      <td>0.00038</td>\n",
              "      <td>1.625321</td>\n",
              "    </tr>\n",
              "    <tr>\n",
              "      <th>2</th>\n",
              "      <td>GGAL</td>\n",
              "      <td>1991-01-04</td>\n",
              "      <td>0.02251</td>\n",
              "      <td>0.02289</td>\n",
              "      <td>0.02251</td>\n",
              "      <td>0.02251</td>\n",
              "      <td>-0.00038</td>\n",
              "      <td>-1.660114</td>\n",
              "      <td>0.00038</td>\n",
              "      <td>1.660114</td>\n",
              "    </tr>\n",
              "    <tr>\n",
              "      <th>3</th>\n",
              "      <td>GGAL</td>\n",
              "      <td>1991-01-07</td>\n",
              "      <td>0.02202</td>\n",
              "      <td>0.02202</td>\n",
              "      <td>0.02202</td>\n",
              "      <td>0.02202</td>\n",
              "      <td>-0.00049</td>\n",
              "      <td>-2.176810</td>\n",
              "      <td>0.00000</td>\n",
              "      <td>0.000000</td>\n",
              "    </tr>\n",
              "    <tr>\n",
              "      <th>4</th>\n",
              "      <td>GGAL</td>\n",
              "      <td>1991-01-08</td>\n",
              "      <td>0.02128</td>\n",
              "      <td>0.02177</td>\n",
              "      <td>0.02128</td>\n",
              "      <td>0.02128</td>\n",
              "      <td>-0.00074</td>\n",
              "      <td>-3.360581</td>\n",
              "      <td>0.00049</td>\n",
              "      <td>2.225250</td>\n",
              "    </tr>\n",
              "    <tr>\n",
              "      <th>...</th>\n",
              "      <td>...</td>\n",
              "      <td>...</td>\n",
              "      <td>...</td>\n",
              "      <td>...</td>\n",
              "      <td>...</td>\n",
              "      <td>...</td>\n",
              "      <td>...</td>\n",
              "      <td>...</td>\n",
              "      <td>...</td>\n",
              "      <td>...</td>\n",
              "    </tr>\n",
              "    <tr>\n",
              "      <th>8241</th>\n",
              "      <td>GGAL</td>\n",
              "      <td>2024-07-04</td>\n",
              "      <td>4006.00000</td>\n",
              "      <td>4050.00000</td>\n",
              "      <td>3990.10000</td>\n",
              "      <td>3996.35010</td>\n",
              "      <td>-3.75000</td>\n",
              "      <td>-0.093748</td>\n",
              "      <td>59.90000</td>\n",
              "      <td>1.497463</td>\n",
              "    </tr>\n",
              "    <tr>\n",
              "      <th>8242</th>\n",
              "      <td>GGAL</td>\n",
              "      <td>2024-07-05</td>\n",
              "      <td>3957.00000</td>\n",
              "      <td>4037.00000</td>\n",
              "      <td>3925.00000</td>\n",
              "      <td>3971.00000</td>\n",
              "      <td>-25.35010</td>\n",
              "      <td>-0.634331</td>\n",
              "      <td>112.00000</td>\n",
              "      <td>2.802557</td>\n",
              "    </tr>\n",
              "    <tr>\n",
              "      <th>8243</th>\n",
              "      <td>GGAL</td>\n",
              "      <td>2024-07-08</td>\n",
              "      <td>3982.00000</td>\n",
              "      <td>4010.00000</td>\n",
              "      <td>3925.00000</td>\n",
              "      <td>3979.00000</td>\n",
              "      <td>8.00000</td>\n",
              "      <td>0.201461</td>\n",
              "      <td>85.00000</td>\n",
              "      <td>2.140519</td>\n",
              "    </tr>\n",
              "    <tr>\n",
              "      <th>8244</th>\n",
              "      <td>GGAL</td>\n",
              "      <td>2024-07-10</td>\n",
              "      <td>4040.00000</td>\n",
              "      <td>4110.00000</td>\n",
              "      <td>4015.00000</td>\n",
              "      <td>4100.00000</td>\n",
              "      <td>121.00000</td>\n",
              "      <td>3.040965</td>\n",
              "      <td>95.00000</td>\n",
              "      <td>2.387535</td>\n",
              "    </tr>\n",
              "    <tr>\n",
              "      <th>8245</th>\n",
              "      <td>GGAL</td>\n",
              "      <td>2024-07-11</td>\n",
              "      <td>4100.00000</td>\n",
              "      <td>4150.00000</td>\n",
              "      <td>4070.00000</td>\n",
              "      <td>4110.00000</td>\n",
              "      <td>10.00000</td>\n",
              "      <td>0.243902</td>\n",
              "      <td>80.00000</td>\n",
              "      <td>1.951220</td>\n",
              "    </tr>\n",
              "  </tbody>\n",
              "</table>\n",
              "<p>8246 rows × 10 columns</p>\n",
              "</div>"
            ],
            "text/plain": [
              "     especie fecha_date    apertura      maximo      minimo      cierre  \\\n",
              "0       GGAL 1991-01-02     0.02338     0.02338     0.02313     0.02338   \n",
              "1       GGAL 1991-01-03     0.02289     0.02289     0.02251     0.02289   \n",
              "2       GGAL 1991-01-04     0.02251     0.02289     0.02251     0.02251   \n",
              "3       GGAL 1991-01-07     0.02202     0.02202     0.02202     0.02202   \n",
              "4       GGAL 1991-01-08     0.02128     0.02177     0.02128     0.02128   \n",
              "...      ...        ...         ...         ...         ...         ...   \n",
              "8241    GGAL 2024-07-04  4006.00000  4050.00000  3990.10000  3996.35010   \n",
              "8242    GGAL 2024-07-05  3957.00000  4037.00000  3925.00000  3971.00000   \n",
              "8243    GGAL 2024-07-08  3982.00000  4010.00000  3925.00000  3979.00000   \n",
              "8244    GGAL 2024-07-10  4040.00000  4110.00000  4015.00000  4100.00000   \n",
              "8245    GGAL 2024-07-11  4100.00000  4150.00000  4070.00000  4110.00000   \n",
              "\n",
              "      var_cierre_nominal  var_cierre_porcentual  rango_diario_nominal  \\\n",
              "0                0.00000               0.000000               0.00025   \n",
              "1               -0.00049              -2.095808               0.00038   \n",
              "2               -0.00038              -1.660114               0.00038   \n",
              "3               -0.00049              -2.176810               0.00000   \n",
              "4               -0.00074              -3.360581               0.00049   \n",
              "...                  ...                    ...                   ...   \n",
              "8241            -3.75000              -0.093748              59.90000   \n",
              "8242           -25.35010              -0.634331             112.00000   \n",
              "8243             8.00000               0.201461              85.00000   \n",
              "8244           121.00000               3.040965              95.00000   \n",
              "8245            10.00000               0.243902              80.00000   \n",
              "\n",
              "      rango_diario_porcentual  \n",
              "0                    0.000000  \n",
              "1                    1.625321  \n",
              "2                    1.660114  \n",
              "3                    0.000000  \n",
              "4                    2.225250  \n",
              "...                       ...  \n",
              "8241                 1.497463  \n",
              "8242                 2.802557  \n",
              "8243                 2.140519  \n",
              "8244                 2.387535  \n",
              "8245                 1.951220  \n",
              "\n",
              "[8246 rows x 10 columns]"
            ]
          },
          "execution_count": 5,
          "metadata": {},
          "output_type": "execute_result"
        }
      ],
      "source": [
        "# Agrego la variacion nominal respecto del cierre anterior.\n",
        "df_especie['var_cierre_nominal'] = (df_especie['cierre'] - df_especie['cierre'].shift())\n",
        "\n",
        "# Agrego la variacion porcentual respecto del cierre anterior.\n",
        "df_especie['var_cierre_porcentual'] = ((df_especie['cierre'] / df_especie['cierre'].shift()) - 1 ) * 100\n",
        "\n",
        "# Agrego el rango nominal = max del dia - min del dia\n",
        "df_especie['rango_diario_nominal'] = df_especie['maximo'] - df_especie['minimo']\n",
        "\n",
        "# Agrego el rango porcentual = (max del dia - min del dia) / cierre anterior\n",
        "df_especie['rango_diario_porcentual'] = ((df_especie['maximo'] - df_especie['minimo']) / df_especie['cierre'].shift()) * 100\n",
        "\n",
        "df_especie = df_especie.fillna(0)\n",
        "\n",
        "df_poblacion = df_especie\n",
        "df_poblacion"
      ]
    },
    {
      "cell_type": "markdown",
      "metadata": {
        "id": "x060Yk9m-jwf"
      },
      "source": [
        "Seleccionamos el rango de fechas a estudiar, es decir, nuestra muestra.\n",
        "\n",
        "Decido tomar como muestra los datos desde el año 1997, con el fin de abarcar el período final de la Convertibilidad y su posterior crisis económica."
      ]
    },
    {
      "cell_type": "code",
      "execution_count": 6,
      "metadata": {
        "colab": {
          "base_uri": "https://localhost:8080/",
          "height": 424
        },
        "id": "THm3qZq6-jL3",
        "outputId": "1c7b4460-b86d-4836-fed6-cb996267f004"
      },
      "outputs": [
        {
          "data": {
            "text/html": [
              "<div>\n",
              "<style scoped>\n",
              "    .dataframe tbody tr th:only-of-type {\n",
              "        vertical-align: middle;\n",
              "    }\n",
              "\n",
              "    .dataframe tbody tr th {\n",
              "        vertical-align: top;\n",
              "    }\n",
              "\n",
              "    .dataframe thead th {\n",
              "        text-align: right;\n",
              "    }\n",
              "</style>\n",
              "<table border=\"1\" class=\"dataframe\">\n",
              "  <thead>\n",
              "    <tr style=\"text-align: right;\">\n",
              "      <th></th>\n",
              "      <th>n</th>\n",
              "      <th>especie</th>\n",
              "      <th>fecha_date</th>\n",
              "      <th>apertura</th>\n",
              "      <th>maximo</th>\n",
              "      <th>minimo</th>\n",
              "      <th>cierre</th>\n",
              "      <th>var_cierre_nominal</th>\n",
              "      <th>var_cierre_porcentual</th>\n",
              "      <th>rango_diario_nominal</th>\n",
              "      <th>rango_diario_porcentual</th>\n",
              "    </tr>\n",
              "  </thead>\n",
              "  <tbody>\n",
              "    <tr>\n",
              "      <th>0</th>\n",
              "      <td>1</td>\n",
              "      <td>GGAL</td>\n",
              "      <td>1997-01-02</td>\n",
              "      <td>1.45160</td>\n",
              "      <td>1.46369</td>\n",
              "      <td>1.43950</td>\n",
              "      <td>1.45643</td>\n",
              "      <td>0.00241</td>\n",
              "      <td>0.165747</td>\n",
              "      <td>0.02419</td>\n",
              "      <td>1.663663</td>\n",
              "    </tr>\n",
              "    <tr>\n",
              "      <th>1</th>\n",
              "      <td>2</td>\n",
              "      <td>GGAL</td>\n",
              "      <td>1997-01-03</td>\n",
              "      <td>1.45643</td>\n",
              "      <td>1.46611</td>\n",
              "      <td>1.45643</td>\n",
              "      <td>1.46369</td>\n",
              "      <td>0.00726</td>\n",
              "      <td>0.498479</td>\n",
              "      <td>0.00968</td>\n",
              "      <td>0.664639</td>\n",
              "    </tr>\n",
              "    <tr>\n",
              "      <th>2</th>\n",
              "      <td>3</td>\n",
              "      <td>GGAL</td>\n",
              "      <td>1997-01-06</td>\n",
              "      <td>1.47579</td>\n",
              "      <td>1.48063</td>\n",
              "      <td>1.46369</td>\n",
              "      <td>1.47579</td>\n",
              "      <td>0.01210</td>\n",
              "      <td>0.826678</td>\n",
              "      <td>0.01694</td>\n",
              "      <td>1.157349</td>\n",
              "    </tr>\n",
              "    <tr>\n",
              "      <th>3</th>\n",
              "      <td>4</td>\n",
              "      <td>GGAL</td>\n",
              "      <td>1997-01-07</td>\n",
              "      <td>1.47579</td>\n",
              "      <td>1.49514</td>\n",
              "      <td>1.47579</td>\n",
              "      <td>1.49514</td>\n",
              "      <td>0.01935</td>\n",
              "      <td>1.311162</td>\n",
              "      <td>0.01935</td>\n",
              "      <td>1.311162</td>\n",
              "    </tr>\n",
              "    <tr>\n",
              "      <th>4</th>\n",
              "      <td>5</td>\n",
              "      <td>GGAL</td>\n",
              "      <td>1997-01-08</td>\n",
              "      <td>1.50724</td>\n",
              "      <td>1.54837</td>\n",
              "      <td>1.50724</td>\n",
              "      <td>1.52418</td>\n",
              "      <td>0.02904</td>\n",
              "      <td>1.942293</td>\n",
              "      <td>0.04113</td>\n",
              "      <td>2.750913</td>\n",
              "    </tr>\n",
              "    <tr>\n",
              "      <th>...</th>\n",
              "      <td>...</td>\n",
              "      <td>...</td>\n",
              "      <td>...</td>\n",
              "      <td>...</td>\n",
              "      <td>...</td>\n",
              "      <td>...</td>\n",
              "      <td>...</td>\n",
              "      <td>...</td>\n",
              "      <td>...</td>\n",
              "      <td>...</td>\n",
              "      <td>...</td>\n",
              "    </tr>\n",
              "    <tr>\n",
              "      <th>6739</th>\n",
              "      <td>6740</td>\n",
              "      <td>GGAL</td>\n",
              "      <td>2024-07-04</td>\n",
              "      <td>4006.00000</td>\n",
              "      <td>4050.00000</td>\n",
              "      <td>3990.10000</td>\n",
              "      <td>3996.35010</td>\n",
              "      <td>-3.75000</td>\n",
              "      <td>-0.093748</td>\n",
              "      <td>59.90000</td>\n",
              "      <td>1.497463</td>\n",
              "    </tr>\n",
              "    <tr>\n",
              "      <th>6740</th>\n",
              "      <td>6741</td>\n",
              "      <td>GGAL</td>\n",
              "      <td>2024-07-05</td>\n",
              "      <td>3957.00000</td>\n",
              "      <td>4037.00000</td>\n",
              "      <td>3925.00000</td>\n",
              "      <td>3971.00000</td>\n",
              "      <td>-25.35010</td>\n",
              "      <td>-0.634331</td>\n",
              "      <td>112.00000</td>\n",
              "      <td>2.802557</td>\n",
              "    </tr>\n",
              "    <tr>\n",
              "      <th>6741</th>\n",
              "      <td>6742</td>\n",
              "      <td>GGAL</td>\n",
              "      <td>2024-07-08</td>\n",
              "      <td>3982.00000</td>\n",
              "      <td>4010.00000</td>\n",
              "      <td>3925.00000</td>\n",
              "      <td>3979.00000</td>\n",
              "      <td>8.00000</td>\n",
              "      <td>0.201461</td>\n",
              "      <td>85.00000</td>\n",
              "      <td>2.140519</td>\n",
              "    </tr>\n",
              "    <tr>\n",
              "      <th>6742</th>\n",
              "      <td>6743</td>\n",
              "      <td>GGAL</td>\n",
              "      <td>2024-07-10</td>\n",
              "      <td>4040.00000</td>\n",
              "      <td>4110.00000</td>\n",
              "      <td>4015.00000</td>\n",
              "      <td>4100.00000</td>\n",
              "      <td>121.00000</td>\n",
              "      <td>3.040965</td>\n",
              "      <td>95.00000</td>\n",
              "      <td>2.387535</td>\n",
              "    </tr>\n",
              "    <tr>\n",
              "      <th>6743</th>\n",
              "      <td>6744</td>\n",
              "      <td>GGAL</td>\n",
              "      <td>2024-07-11</td>\n",
              "      <td>4100.00000</td>\n",
              "      <td>4150.00000</td>\n",
              "      <td>4070.00000</td>\n",
              "      <td>4110.00000</td>\n",
              "      <td>10.00000</td>\n",
              "      <td>0.243902</td>\n",
              "      <td>80.00000</td>\n",
              "      <td>1.951220</td>\n",
              "    </tr>\n",
              "  </tbody>\n",
              "</table>\n",
              "<p>6744 rows × 11 columns</p>\n",
              "</div>"
            ],
            "text/plain": [
              "         n especie fecha_date    apertura      maximo      minimo      cierre  \\\n",
              "0        1    GGAL 1997-01-02     1.45160     1.46369     1.43950     1.45643   \n",
              "1        2    GGAL 1997-01-03     1.45643     1.46611     1.45643     1.46369   \n",
              "2        3    GGAL 1997-01-06     1.47579     1.48063     1.46369     1.47579   \n",
              "3        4    GGAL 1997-01-07     1.47579     1.49514     1.47579     1.49514   \n",
              "4        5    GGAL 1997-01-08     1.50724     1.54837     1.50724     1.52418   \n",
              "...    ...     ...        ...         ...         ...         ...         ...   \n",
              "6739  6740    GGAL 2024-07-04  4006.00000  4050.00000  3990.10000  3996.35010   \n",
              "6740  6741    GGAL 2024-07-05  3957.00000  4037.00000  3925.00000  3971.00000   \n",
              "6741  6742    GGAL 2024-07-08  3982.00000  4010.00000  3925.00000  3979.00000   \n",
              "6742  6743    GGAL 2024-07-10  4040.00000  4110.00000  4015.00000  4100.00000   \n",
              "6743  6744    GGAL 2024-07-11  4100.00000  4150.00000  4070.00000  4110.00000   \n",
              "\n",
              "      var_cierre_nominal  var_cierre_porcentual  rango_diario_nominal  \\\n",
              "0                0.00241               0.165747               0.02419   \n",
              "1                0.00726               0.498479               0.00968   \n",
              "2                0.01210               0.826678               0.01694   \n",
              "3                0.01935               1.311162               0.01935   \n",
              "4                0.02904               1.942293               0.04113   \n",
              "...                  ...                    ...                   ...   \n",
              "6739            -3.75000              -0.093748              59.90000   \n",
              "6740           -25.35010              -0.634331             112.00000   \n",
              "6741             8.00000               0.201461              85.00000   \n",
              "6742           121.00000               3.040965              95.00000   \n",
              "6743            10.00000               0.243902              80.00000   \n",
              "\n",
              "      rango_diario_porcentual  \n",
              "0                    1.663663  \n",
              "1                    0.664639  \n",
              "2                    1.157349  \n",
              "3                    1.311162  \n",
              "4                    2.750913  \n",
              "...                       ...  \n",
              "6739                 1.497463  \n",
              "6740                 2.802557  \n",
              "6741                 2.140519  \n",
              "6742                 2.387535  \n",
              "6743                 1.951220  \n",
              "\n",
              "[6744 rows x 11 columns]"
            ]
          },
          "execution_count": 6,
          "metadata": {},
          "output_type": "execute_result"
        }
      ],
      "source": [
        "# Creo un nuevo DF con las cotizaciones de un determinado periodo de tiempo. Esta es nuestra muestra.\n",
        "fecha_inicio = FECHA_INICIO_MUESTRA\n",
        "df = tomar_muestra_df(df_especie, fecha_inicio)\n",
        "\n",
        "# Reinicio los indices del nuevo DF\n",
        "df = df.reset_index(drop=True)\n",
        "\n",
        "# Agrego un indice \"n\" en la columna 0\n",
        "df.insert(0, 'n', 1, allow_duplicates=False)\n",
        "df['n'] = df['n'].cumsum()\n",
        "\n",
        "df"
      ]
    },
    {
      "cell_type": "markdown",
      "metadata": {
        "id": "-oZALeyloq56"
      },
      "source": [
        "# Análisis y Visualizaciones\n",
        "\n",
        "Trabajamos sobre la muestra tomada de la población de datos, haciendo los análisis necesarios.\n",
        "\n",
        "\n"
      ]
    },
    {
      "cell_type": "markdown",
      "metadata": {
        "id": "JWsZeEfHiGX0"
      },
      "source": [
        "Lo primero que hacemos es crear una serie (arreglo de 1 dimensión) de los valores a analizar.\n",
        "\n",
        "En este caso, vamos a analizar la Variación Porcentual del precio del activo al cierre de cada rueda, respecto de la rueda anterior."
      ]
    },
    {
      "cell_type": "code",
      "execution_count": 7,
      "metadata": {
        "id": "mraXdIdciG4J"
      },
      "outputs": [],
      "source": [
        "values = np.array(df['var_cierre_porcentual'])\n",
        "n = len(values)"
      ]
    },
    {
      "cell_type": "markdown",
      "metadata": {
        "id": "Bb5clEyFRmd3"
      },
      "source": [
        "## Promedios"
      ]
    },
    {
      "cell_type": "markdown",
      "metadata": {
        "id": "UReyCgoBRqhC"
      },
      "source": [
        "**Media, Mediana y Moda**"
      ]
    },
    {
      "cell_type": "code",
      "execution_count": 8,
      "metadata": {
        "colab": {
          "base_uri": "https://localhost:8080/"
        },
        "id": "_awIuxWoo-o7",
        "outputId": "c976fabd-3f97-4348-fe7e-113a4e3c7e2b"
      },
      "outputs": [
        {
          "name": "stdout",
          "output_type": "stream",
          "text": [
            "La Media de la muestra es: 0.18445288471805887\n",
            "\n",
            "Los valores ordenados son los siguientes:(array([-47.06387854, -44.67623436, -24.17643132, ...,  44.72842234,\n",
            "        51.01857592,  89.73353645]),).\n",
            "La Mediana de la muestra es: 0.0\n",
            "\n",
            "Los cantidad de valores anaizados son los siguientes: [372].\n",
            "La Moda de la muestra es: [0.]\n"
          ]
        }
      ],
      "source": [
        "from scipy import stats\n",
        "\n",
        "mu = np.mean(values)\n",
        "\n",
        "values_sorted = np.sort(values), \n",
        "mediana = np.median(values_sorted)\n",
        "\n",
        "moda, count = stats.mode(values)\n",
        "\n",
        "print (f'La Media de la muestra es: {mu}\\n')\n",
        "print (f'Los valores ordenados son los siguientes:{values_sorted}.\\nLa Mediana de la muestra es: {mediana}\\n')\n",
        "print (f'Los cantidad de valores anaizados son los siguientes: {count}.\\nLa Moda de la muestra es: {moda}')"
      ]
    },
    {
      "cell_type": "markdown",
      "metadata": {
        "id": "6uEO2lnkUEZd"
      },
      "source": [
        "## Medidas de dispersión"
      ]
    },
    {
      "cell_type": "markdown",
      "metadata": {
        "id": "OLw25RGJH6sS"
      },
      "source": [
        "**Varianza y Desviación Estándar**"
      ]
    },
    {
      "cell_type": "code",
      "execution_count": 9,
      "metadata": {
        "colab": {
          "base_uri": "https://localhost:8080/"
        },
        "id": "qSP3Q7liRuSz",
        "outputId": "c2a53859-33ea-4a18-e3f6-2145f28e53dd"
      },
      "outputs": [
        {
          "name": "stdout",
          "output_type": "stream",
          "text": [
            "La Varianza de la muestra es la siguiente: 13.670310001337912.\n",
            "El Desvío Estándar de la muestra es: 3.697338231936309\n"
          ]
        }
      ],
      "source": [
        "import statistics as st\n",
        "\n",
        "var = st.variance(values)\n",
        "sigma = st.stdev(values)\n",
        "\n",
        "print (f'La Varianza de la muestra es la siguiente: {var}.\\nEl Desvío Estándar de la muestra es: {sigma}')"
      ]
    },
    {
      "cell_type": "markdown",
      "metadata": {
        "id": "7EjbduYpX3mm"
      },
      "source": [
        "**Volatilidad histórica**\n",
        "\n",
        "Calculamos la Volatilidad Histórica del activo financiero analizado.\n",
        "El número de ruedas a tomar para calcular la V.H. es el indicado en la variable global \"DIAS_V_H\". "
      ]
    },
    {
      "cell_type": "code",
      "execution_count": 10,
      "metadata": {
        "colab": {
          "base_uri": "https://localhost:8080/"
        },
        "id": "T39diKQ_X-2k",
        "outputId": "efb3b07b-fe9e-4e69-ae78-1ce96c6e0668"
      },
      "outputs": [
        {
          "name": "stdout",
          "output_type": "stream",
          "text": [
            "La Volatilidad Histórica de las últimas 40 ruedas, a partir del 2022-06-23 es: 31.864626709100573%\n"
          ]
        }
      ],
      "source": [
        "fecha = '2022-06-23'\n",
        "v_h = volatilidad_historica(DIAS_V_H, fecha)\n",
        "\n",
        "print (f'La Volatilidad Histórica de las últimas {DIAS_V_H} ruedas, a partir del {fecha} es: {v_h}%')"
      ]
    },
    {
      "cell_type": "markdown",
      "metadata": {
        "id": "PxIgyv58YwNG"
      },
      "source": [
        "## Estimación de Intervalos de Confianza de la variable \"Variación porcentual al cierre\""
      ]
    },
    {
      "cell_type": "markdown",
      "metadata": {
        "id": "LWMn7R74Zke-"
      },
      "source": [
        "### 1) Media y Desvío Estándar de la muestra"
      ]
    },
    {
      "cell_type": "code",
      "execution_count": 11,
      "metadata": {
        "colab": {
          "base_uri": "https://localhost:8080/"
        },
        "id": "LSri2p3DZ7BJ",
        "outputId": "8dc1bf4f-7352-46bc-e062-b542a41edfd1"
      },
      "outputs": [
        {
          "name": "stdout",
          "output_type": "stream",
          "text": [
            "La Media de la muestra es: 0.184453 puntos porcentuales.\n",
            "La Varianza de la muestra es: 13.67031 puntos porcentuales.\n",
            "El Desvío Estándar de la muestra es: 3.697338 puntos porcentuales.\n"
          ]
        }
      ],
      "source": [
        "values = np.array(df['var_cierre_porcentual'])\n",
        "\n",
        "mu = np.mean(values)\n",
        "var = st.variance(values)\n",
        "sigma = st.stdev(values)\n",
        "\n",
        "print('La Media de la muestra es:', round(mu, 6), 'puntos porcentuales.')\n",
        "print('La Varianza de la muestra es:', round(var, 6), 'puntos porcentuales.')\n",
        "print('El Desvío Estándar de la muestra es:', round(sigma, 6), 'puntos porcentuales.')"
      ]
    },
    {
      "cell_type": "markdown",
      "metadata": {
        "id": "cKxmVvqMbYee"
      },
      "source": [
        "### 2) Medida de posible error (error estándar de las medias muestrales)"
      ]
    },
    {
      "cell_type": "code",
      "execution_count": 12,
      "metadata": {
        "colab": {
          "base_uri": "https://localhost:8080/"
        },
        "id": "r9HfuHdpY41l",
        "outputId": "fc78ac99-29a8-4570-884f-9302950eb8c8"
      },
      "outputs": [
        {
          "name": "stdout",
          "output_type": "stream",
          "text": [
            "El Error Estándar de la media de la muestra es: 0.046293 puntos porcentuales.\n"
          ]
        }
      ],
      "source": [
        "values_poblacion = np.array(df_poblacion['var_cierre_porcentual'])\n",
        "sigma_poblacion = st.stdev(values_poblacion)\n",
        "\n",
        "error = sigma_poblacion / (np.sqrt(n))\n",
        "\n",
        "print('El Error Estándar de la media de la muestra es:', round(error, 6), 'puntos porcentuales.')"
      ]
    },
    {
      "cell_type": "markdown",
      "metadata": {
        "id": "EkdFaTHhdSlb"
      },
      "source": [
        "### 3) Intervalos de confianza: cálculo y gráficos"
      ]
    },
    {
      "cell_type": "markdown",
      "metadata": {
        "id": "Y-NYWwHReztS"
      },
      "source": [
        "Los intervalos de confianza de la variación porcentual de precio de una rueda a la siguiente, son los siguientes:"
      ]
    },
    {
      "cell_type": "code",
      "execution_count": 13,
      "metadata": {
        "id": "3bVcUyxobfYU"
      },
      "outputs": [],
      "source": [
        "# 1er intervalo de confianza\n",
        "q_sigma = 1\n",
        "lim_inf_1 = mu - (q_sigma * sigma)  # * ((1-NIVEL_SIGNIFICACION)/2))\n",
        "lim_sup_1 = mu + (q_sigma * sigma) # * ((1-NIVEL_SIGNIFICACION)/2))\n",
        "intervalo_1sigma = lim_sup_1 - lim_inf_1\n",
        "\n",
        "\n",
        "# 2do intervalo de confianza\n",
        "q_sigma = 2\n",
        "lim_inf_2 = mu - (q_sigma * sigma) # * ((1-NIVEL_SIGNIFICACION)/2))\n",
        "lim_sup_2 = mu + (q_sigma * sigma) # * ((1-NIVEL_SIGNIFICACION)/2))\n",
        "intervalo_2sigma = lim_sup_2 - lim_inf_2\n",
        "\n",
        "\n",
        "# 3er intervalo de confianza\n",
        "q_sigma = 3\n",
        "lim_inf_3 = mu - (q_sigma * sigma) # * ((1-NIVEL_SIGNIFICACION)/2))\n",
        "lim_sup_3 = mu + (q_sigma * sigma) # * ((1-NIVEL_SIGNIFICACION)/2))\n",
        "intervalo_3sigma = lim_sup_3 - lim_inf_3"
      ]
    },
    {
      "cell_type": "code",
      "execution_count": 14,
      "metadata": {
        "colab": {
          "base_uri": "https://localhost:8080/",
          "height": 729
        },
        "id": "mFgIYYEvYD8l",
        "outputId": "d07cb666-def2-41a0-b3ae-26f1a44aedfd"
      },
      "outputs": [
        {
          "data": {
            "image/png": "[encoded data removed]",
            "text/plain": [
              "<Figure size 1200x1000 with 1 Axes>"
            ]
          },
          "metadata": {},
          "output_type": "display_data"
        }
      ],
      "source": [
        "import matplotlib.pyplot as plt\n",
        "%matplotlib inline\n",
        "\n",
        "x = values\n",
        "xmin = -15\n",
        "xmax = 15\n",
        "\n",
        "# Creo una distribucion normal con el mu y el sigma de nuestra muestra\n",
        "dist = norm(loc=mu, scale=sigma)\n",
        "values_dist = np.linspace(dist.ppf(0.001), dist.ppf(0.999), 100)\n",
        "\n",
        "# Genero los intervalos\n",
        "intervalos = []\n",
        "i = xmin\n",
        "while i <= xmax:\n",
        "  intervalos.append(i)\n",
        "  i += 0.5\n",
        "\n",
        "# Determino el tamaño del gráfico\n",
        "fig = plt.figure(figsize=(12,10))\n",
        "ax = fig.subplots()\n",
        "\n",
        "# El histograma usa los datos de entrada de 'x', \n",
        "# le indico que los normalice, es decir, que todos los valores sumen 1.\n",
        "ax.hist(x, intervalos, density=True, label=\"Muestra\")\n",
        "\n",
        "# Dibujo la curva Normal con el mu y el sigma de nuestra muestra\n",
        "ax.plot(values_dist, dist.pdf(values_dist), \"r-\", label=\"Curva Normal teórica\")\n",
        "\n",
        "ax.set_xlabel('Variación porcentual ult. cierre vs. cierre anterior (sep. 0.5%)', fontdict={'size':14, 'color':'C0'})\n",
        "ax.set_ylabel('Cantidad de ocurrencias cada 100', fontdict={'size':14, 'color':'C0'})\n",
        "ax.set_title(f\"Histograma y curva Normal de cantidad de variaciones porcentuales entre el \\nperíodo {FECHA_INICIO_MUESTRA} y {df['fecha_date'][len(df) - 1].strftime('%Y-%m-%d')}\", fontdict={'size':16})\n",
        "\n",
        "# Dibujo lineas verticales con el mu y los límites de los intervalos de confianza\n",
        "ax.axvline(mu, color='y', linestyle='--', label=f'Media: {round(mu, 2)}%')\n",
        "ax.axvline(lim_inf_1, color='r', linestyle='--')\n",
        "ax.axvline(lim_sup_1, color='r', linestyle='--', label=f'1 Sigma: +- {round(lim_sup_1, 2)}%')\n",
        "ax.axvline(lim_inf_2, color='b', linestyle='--')\n",
        "ax.axvline(lim_sup_2, color='b', linestyle='--', label=f'2 Sigmaa: +- {round(lim_sup_2, 2)}%')\n",
        "ax.axvline(lim_inf_3, color='g', linestyle='--')\n",
        "ax.axvline(lim_sup_3, color='g', linestyle='--', label=f'3 Sigma: +- {round(lim_sup_3, 2)}%')\n",
        "ax.legend(loc=\"upper right\", bbox_to_anchor=(0.99, 0.99), prop={'size': 12})\n",
        "\n",
        "\n",
        "plt.xlim(0,10)\n",
        "plt.ylim(0,10)\n",
        "# axis: x0,x1,y0, y1\n",
        "plt.axis([xmin, xmax, 0, 0.25])\n",
        "plt.grid(True)\n",
        "\n",
        "fig.tight_layout()\n",
        "plt.savefig('plot_1_ggal_var_cierre.jpg', dpi=300)\n",
        "plt.show()"
      ]
    },
    {
      "cell_type": "code",
      "execution_count": 15,
      "metadata": {
        "colab": {
          "base_uri": "https://localhost:8080/"
        },
        "id": "FksAeRQsE5b9",
        "outputId": "4a568023-dc30-4258-ef04-3435b286cbbc"
      },
      "outputs": [
        {
          "name": "stdout",
          "output_type": "stream",
          "text": [
            "\n",
            "La Media de la VARIACIÓN PORCENTUAL AL CIERRE de la muestra es de: 0.184453\n",
            "\n",
            "En el Intervalo de -3.51% a 3.88% hay una probabilidad de 68.26%.\n",
            "El Intervalo de confianza de 1 DS es: 7.39%\n",
            "Límite inferior: -3.51%\n",
            "Límite superior: 3.88%\n",
            "\n",
            "En el Intervalo de -7.21% a 7.58% hay una probabilidad de 95.44%.\n",
            "El Intervalo de confianza de 2 DS es: 14.79%\n",
            "Límite inferior: -7.21%\n",
            "Límite superior: 7.58%\n",
            "\n",
            "En el Intervalo de -10.91% a 11.28% hay una probabilidad de 99.72%.\n",
            "El Intervalo de confianza de 3 DS es: 22.18%\n",
            "Límite inferior: -10.91%\n",
            "Límite superior: 11.28%\n",
            "\n"
          ]
        }
      ],
      "source": [
        "\n",
        "print(f'\\nLa Media de la VARIACIÓN PORCENTUAL AL CIERRE de la muestra es de: {round(mu, 6)}\\n')\n",
        "print(f'En el Intervalo de {round(lim_inf_1, 2)}% a {round(lim_sup_1, 2)}% hay una probabilidad de {0.3413*2*100}%.')\n",
        "print(f'El Intervalo de confianza de 1 DS es: {round(intervalo_1sigma, 2)}%')\n",
        "print(f'Límite inferior: {round(lim_inf_1, 2)}%')\n",
        "print(f'Límite superior: {round(lim_sup_1, 2)}%\\n')\n",
        "\n",
        "print(f'En el Intervalo de {round(lim_inf_2, 2)}% a {round(lim_sup_2, 2)}% hay una probabilidad de {0.4772*2*100}%.')\n",
        "print(f'El Intervalo de confianza de 2 DS es: {round(intervalo_2sigma, 2)}%')\n",
        "print(f'Límite inferior: {round(lim_inf_2, 2)}%')\n",
        "print(f'Límite superior: {round(lim_sup_2, 2)}%\\n')\n",
        "\n",
        "print(f'En el Intervalo de {round(lim_inf_3, 2)}% a {round(lim_sup_3, 2)}% hay una probabilidad de {0.4986*2*100}%.')\n",
        "print(f'El Intervalo de confianza de 3 DS es: {round(intervalo_3sigma, 2)}%')\n",
        "print(f'Límite inferior: {round(lim_inf_3, 2)}%')\n",
        "print(f'Límite superior: {round(lim_sup_3, 2)}%\\n')"
      ]
    },
    {
      "cell_type": "markdown",
      "metadata": {
        "id": "q7ppUWSYpA7A"
      },
      "source": [
        "# Conclusión\n",
        "\n",
        "Una vez analizados y procesados los distintos datos, teniendo en cuenta que el fin del presente estudio es generar información que sea de utilidad para el análisis y ejecución de distintas estrategias de cobertura y/o especulación con derivados financieros, nos basaremos en el siguiente gráfico para enunciar las conclusiones.\n",
        "\n",
        "\n",
        "\n",
        "<img src=\"https://raw.githubusercontent.com/JonatanSiracusa/Grupo_Financiero_Galicia_Next_Open_Percent_Change/main/plot_1_ggal_var_cierre.png\" width=800>\n",
        "\n",
        "\n",
        "Como podemos ver en el gráfico, se puede observar lo siguiente:\n",
        "\n",
        "> 1) La variación porcentual de cierre de la cotización de la acción de una rueda a otra, puede estar dentro del rango de -3.33% a +3.61% con una probabilidad o seguridad del 68.26%.\n",
        "\n",
        "> 2) La variación porcentual de cierre de la cotización de la acción de una rueda a otra, puede estar dentro del rango de -6.81% a +7.08% con una probabilidad o seguridad del 95.44%.\n",
        "\n",
        "> 3) La variación porcentual de cierre de la cotización de la acción de una rueda a otra, puede estar dentro del rango de -10.28% a +10.55% con una probabilidad o seguridad del 99.72%.\n",
        "\n",
        "\n",
        "Una de las tantas utilidades de las mencionadas conclusiones es prever y plantear escenarios de \"cuánto puede variar la acción\" de una rueda a otra y, así, poder diseñar estrategias de cobertura o especulativas teniendo en cuenta \"cuánto es lo que puediese llegar a variar\" el precio de la acción de una rueda a otra. \n",
        "\n",
        "\n",
        "\n"
      ]
    }
  ],
  "metadata": {
    "colab": {
      "collapsed_sections": [],
      "name": "Grupo_Financiero_Galicia_Next_Open_Percent_Change.ipynb",
      "provenance": []
    },
    "kernelspec": {
      "display_name": "Python 3",
      "name": "python3"
    },
    "language_info": {
      "codemirror_mode": {
        "name": "ipython",
        "version": 3
      },
      "file_extension": ".py",
      "mimetype": "text/x-python",
      "name": "python",
      "nbconvert_exporter": "python",
      "pygments_lexer": "ipython3",
      "version": "3.7.0"
    }
  },
  "nbformat": 4,
  "nbformat_minor": 0
}
